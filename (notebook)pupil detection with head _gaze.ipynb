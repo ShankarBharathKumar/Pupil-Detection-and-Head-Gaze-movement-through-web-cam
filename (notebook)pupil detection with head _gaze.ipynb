{
 "cells": [
  {
   "cell_type": "markdown",
   "id": "a5992638",
   "metadata": {},
   "source": [
    "# #Real-time pupil detector and head pose movement through the webcam #"
   ]
  },
  {
   "cell_type": "markdown",
   "id": "4291eeac",
   "metadata": {},
   "source": [
    "# Import libraries"
   ]
  },
  {
   "cell_type": "code",
   "execution_count": 1,
   "id": "fe430577",
   "metadata": {},
   "outputs": [],
   "source": [
    "import cv2 # Import the OpenCV library for image and video processing\n",
    "import dlib # Import the dlib library for face detection\n",
    "import numpy as np # Import numpy for numerical operations"
   ]
  },
  {
   "cell_type": "markdown",
   "id": "be5e69fc",
   "metadata": {},
   "source": [
    "# Initialize the face detector using dlib's built-in frontal face detector"
   ]
  },
  {
   "cell_type": "code",
   "execution_count": 2,
   "id": "3547a738",
   "metadata": {},
   "outputs": [],
   "source": [
    "face_detector = dlib.get_frontal_face_detector()"
   ]
  },
  {
   "cell_type": "markdown",
   "id": "86e4ba5b",
   "metadata": {},
   "source": [
    "# Load a pre-trained classifier for eye detection using cv2's CascadeClassifier"
   ]
  },
  {
   "cell_type": "code",
   "execution_count": 3,
   "id": "3eeecd38",
   "metadata": {},
   "outputs": [],
   "source": [
    "eye_detector = cv2.CascadeClassifier('haarcascade_eye_tree_eyeglasses-Copy1.xml')"
   ]
  },
  {
   "cell_type": "markdown",
   "id": "204e5c72",
   "metadata": {},
   "source": [
    "# Initialize a video capture object from the default camera (camera ID = 0)"
   ]
  },
  {
   "cell_type": "code",
   "execution_count": 4,
   "id": "1aab3cbf",
   "metadata": {},
   "outputs": [],
   "source": [
    "cap = cv2.VideoCapture(0)"
   ]
  },
  {
   "cell_type": "markdown",
   "id": "1068cbbf",
   "metadata": {},
   "source": [
    "# Enter an infinite loop that processes each frame from the video capture object"
   ]
  },
  {
   "cell_type": "code",
   "execution_count": 5,
   "id": "40c43b69",
   "metadata": {},
   "outputs": [],
   "source": [
    "\n",
    "\n",
    "while True:\n",
    "    # Read a frame from the video capture object\n",
    "    ret, frame = cap.read()\n",
    "    \n",
    "    # If the frame is None, break out of the loop (reached the end of the video)\n",
    "    if frame is None:\n",
    "        break\n",
    "\n",
    "    # Convert the frame to grayscale using cv2's cvtColor function\n",
    "    gray = cv2.cvtColor(frame, cv2.COLOR_BGR2GRAY)\n",
    "\n",
    "    # Detect faces in the grayscale frame using the face detector\n",
    "    faces = face_detector(gray)\n",
    "\n",
    "    # Loop through each face detected\n",
    "    for face in faces:\n",
    "        # Get the bounding box coordinates of the face\n",
    "        (x, y, w, h) = (face.left(), face.top(), face.right() - face.left(), face.bottom() - face.top())\n",
    "\n",
    "        # Draw a green rectangle around the face using cv2's rectangle function\n",
    "        cv2.rectangle(frame, (x, y), (x + w, y + h), (0, 255, 0), 2)\n",
    "\n",
    "        # Crop the region of interest (ROI) containing the face from the grayscale frame\n",
    "        roi_gray = gray[y:y + h, x:x + w]\n",
    "\n",
    "        # Detect eyes in the ROI using the eye detector\n",
    "        eyes = eye_detector.detectMultiScale(roi_gray)\n",
    "\n",
    "        # Loop through each eye detected\n",
    "        for (ex, ey, ew, eh) in eyes:\n",
    "            # Get the center of the eye relative to the ROI\n",
    "            eye_center_roi = (ex + ew // 2, ey + eh // 2)\n",
    "\n",
    "            # Convert the relative eye center to the face coordinate system\n",
    "            eye_center_face = (x + eye_center_roi[0], y + eye_center_roi[1])\n",
    "\n",
    "            # Draw a red circle around the eye using cv2's circle function\n",
    "            cv2.circle(frame, eye_center_face, 2, (0, 0, 255), 2)\n",
    "\n",
    "    # Display the resulting frame in a window named \"Gaze Detector\"\n",
    "    cv2.imshow('Pupil Detector and Head Gaze Detector', frame)\n",
    "\n",
    "    # Exit the loop if the user presses the 'q' key\n",
    "    if cv2.waitKey(1) & 0xFF == ord('q'):\n",
    "        break\n",
    "\n",
    "# Release the video capture object and destroy the windows\n",
    "cap.release()\n",
    "cv2.destroyAllWindows()\n"
   ]
  },
  {
   "cell_type": "code",
   "execution_count": null,
   "id": "53568d27",
   "metadata": {},
   "outputs": [],
   "source": []
  }
 ],
 "metadata": {
  "kernelspec": {
   "display_name": "Python 3 (ipykernel)",
   "language": "python",
   "name": "python3"
  },
  "language_info": {
   "codemirror_mode": {
    "name": "ipython",
    "version": 3
   },
   "file_extension": ".py",
   "mimetype": "text/x-python",
   "name": "python",
   "nbconvert_exporter": "python",
   "pygments_lexer": "ipython3",
   "version": "3.9.6"
  }
 },
 "nbformat": 4,
 "nbformat_minor": 5
}
